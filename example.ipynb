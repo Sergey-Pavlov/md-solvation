{
 "metadata": {
  "language_info": {
   "codemirror_mode": {
    "name": "ipython",
    "version": 3
   },
   "file_extension": ".py",
   "mimetype": "text/x-python",
   "name": "python",
   "nbconvert_exporter": "python",
   "pygments_lexer": "ipython3",
   "version": "3.8.7"
  },
  "orig_nbformat": 2,
  "kernelspec": {
   "name": "python3",
   "display_name": "Python 3.8.7 64-bit",
   "metadata": {
    "interpreter": {
     "hash": "78633f681f22cc370fc2b7f9b3f9a971c484941452c410072f1b93076fffac6f"
    }
   }
  }
 },
 "nbformat": 4,
 "nbformat_minor": 2,
 "cells": [
  {
   "cell_type": "code",
   "execution_count": null,
   "metadata": {},
   "outputs": [],
   "source": [
    "from tau.py import *"
   ]
  },
  {
   "cell_type": "code",
   "execution_count": null,
   "metadata": {},
   "outputs": [],
   "source": [
    "t1 = time.perf_counter()\n",
    "folder = 'C:\\\\Users\\\\Slava\\\\Documents\\\\k\\\\diff_Li\\\\'\n",
    "additive='1'\n",
    "try:\n",
    "    mass = mass_define(folder + 'ff_DME_Li_H2O.top')\n",
    "    system = system_define(folder + additive + 'M_DME_1Li_3.gro')\n",
    "    mol_com_data = mol_com(folder + additive + 'M_DME_1Li_3.trr', system, mass)\n",
    "    box=box_f(folder + additive + 'M_DME_1Li_3.trr')\n",
    "except FileNotFoundError as e:\n",
    "    print(additive, e)\n",
    "except KeyError as e:\n",
    "    print(additive, e)\n",
    "t2 = time.perf_counter()\n",
    "print('{}-{:.0f}:{:05.2f}'.format(additive,(t2-t1)//60,(t2-t1)%60))\n"
   ]
  },
  {
   "cell_type": "code",
   "execution_count": null,
   "metadata": {},
   "outputs": [],
   "source": [
    "t1 = time.perf_counter()\n",
    "ref='Li'\n",
    "sel='DME'\n",
    "rdf=0.3\n",
    "nei = neighbors(mol_com_data, box, system, ref, sel, rdf)\n",
    "t2 = time.perf_counter()\n",
    "print('{}-{:.0f}:{:05.2f}'.format(additive,(t2-t1)//60,(t2-t1)%60))"
   ]
  }
 ]
}